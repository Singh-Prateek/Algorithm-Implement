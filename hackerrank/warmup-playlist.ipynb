{
 "cells": [
  {
   "cell_type": "markdown",
   "metadata": {},
   "source": [
    "Sales by Match"
   ]
  },
  {
   "cell_type": "code",
   "execution_count": null,
   "metadata": {
    "dotnet_interactive": {
     "language": "csharp"
    }
   },
   "outputs": [
    {
     "data": {
      "text/plain": [
       "3"
      ]
     },
     "output_type": "unknown"
    }
   ],
   "source": [
    "var ar = new int[] {10, 20, 20, 10, 10, 30, 50, 10, 20};\r\n",
    "\r\n",
    "var items = ar.GroupBy(g => g).Select(s => s.Count()/2);\r\n",
    "\r\n",
    "Console.Write(items.Sum(c=> c ));\r\n",
    "\r\n",
    "// foreach(var item in items){\r\n",
    "//     Console.Write(item);\r\n",
    "// }"
   ]
  },
  {
   "cell_type": "markdown",
   "metadata": {},
   "source": [
    "`Jumping on the Clouds`"
   ]
  },
  {
   "cell_type": "code",
   "execution_count": null,
   "metadata": {
    "dotnet_interactive": {
     "language": "csharp"
    }
   },
   "outputs": [
    {
     "data": {
      "text/plain": [
       "0 1 2147483647 2 3 2147483647 4 2147483647 5 6 6"
      ]
     },
     "output_type": "unknown"
    },
    {
     "data": {
      "text/plain": [
       "6"
      ]
     },
     "output_type": "unknown"
    }
   ],
   "source": [
    "//public static int getValue(int input) => input == 0 ? 1 : int.MaxValue;\r\n",
    "\r\n",
    "var c = \"0 0 1 0 0 1 0 1 0 0 0\".Split(\" \").Select(int.Parse).ToArray();\r\n",
    "\r\n",
    "var len = c.Count();\r\n",
    "\r\n",
    "var result = new int[len];\r\n",
    "\r\n",
    "for(var i =0 ; i< len ; i++){\r\n",
    "\r\n",
    "    switch(i){\r\n",
    "        case 0 :\r\n",
    "        result[i] = c[i] == 0 ? 0 : int.MaxValue;\r\n",
    "        break;\r\n",
    "        case 1 :\r\n",
    "        result[i] = c[i] == 0 ? 1 : int.MaxValue;\r\n",
    "        break;\r\n",
    "        default : \r\n",
    "        result[i] = c[i] ==0 ? Math.Min(result[i-1] , result[i-2]) +1 : int.MaxValue;\r\n",
    "        break;\r\n",
    "\r\n",
    "    }\r\n",
    "}\r\n",
    "\r\n",
    "Console.Write(string.Join(\" \",result));\r\n",
    "Console.Write(result[len-1]);"
   ]
  },
  {
   "cell_type": "markdown",
   "metadata": {},
   "source": [
    "Counting Valleys"
   ]
  },
  {
   "cell_type": "code",
   "execution_count": null,
   "metadata": {
    "dotnet_interactive": {
     "language": "csharp"
    }
   },
   "outputs": [
    {
     "data": {
      "text/plain": [
       "valley : 1"
      ]
     },
     "output_type": "unknown"
    }
   ],
   "source": [
    "var c = \"UDDDUDUU\".ToCharArray();\r\n",
    "\r\n",
    "var len = c.Count();\r\n",
    "\r\n",
    "var result = 0;\r\n",
    "\r\n",
    "var displacement = 0;\r\n",
    "\r\n",
    "for(var i =0 ; i< len ; i++){\r\n",
    "\r\n",
    "    if(c[i] == 'U'){\r\n",
    "        displacement +=1;\r\n",
    "    }\r\n",
    "\r\n",
    "    if(c[i] == 'D'){\r\n",
    "        displacement -=1;\r\n",
    "    }\r\n",
    "\r\n",
    "    if(displacement == 0 && c[i] == 'U') {\r\n",
    "            result +=1;\r\n",
    "    }\r\n",
    "\r\n",
    "    //Console.Write(displacement);\r\n",
    "}\r\n",
    "\r\n",
    "Console.Write(\"valley : {0}\",result);\r\n",
    "//Console.Write(result[len-1]);"
   ]
  },
  {
   "cell_type": "code",
   "execution_count": null,
   "metadata": {
    "dotnet_interactive": {
     "language": "csharp"
    }
   },
   "outputs": [
    {
     "data": {
      "text/plain": [
       "a : 162401559918"
      ]
     },
     "output_type": "unknown"
    }
   ],
   "source": [
    "//Repeated String\r\n",
    "var s=  \"bcbccacaacbbacabcabccacbccbababbbbabcccbbcbcaccababccbcbcaabbbaabbcaabbbbbbabcbcbbcaccbccaabacbbacbc\";\r\n",
    "//var c = s.ToCharArray();\r\n",
    "var n = 649606239668;\r\n",
    "var len =  s.Length;\r\n",
    "\r\n",
    "//var strLength = c.Count();\r\n",
    "\r\n",
    "var countofa = s.LongCount(l => l=='a');\r\n",
    "\r\n",
    "var multiplier =  n/len;\r\n",
    "\r\n",
    "var remainder = (int)(n%len);\r\n",
    "//Console.Write(\"multiplier : {0}\",multiplier);\r\n",
    "//Console.Write(\"remainder : {0}\",remainder);\r\n",
    "//Console.Write(\"len : {0}\",len);\r\n",
    "\r\n",
    "var result = multiplier*countofa + s.Substring(0,remainder).LongCount(l => l=='a'); //.ToCharArray().LongCount(l => l=='a'); \r\n",
    "\r\n",
    "Console.Write(\"a : {0}\",result);\r\n",
    "//Console.Write(\"remainder : {0}\",s.Substring(0,remainder));"
   ]
  },
  {
   "cell_type": "code",
   "execution_count": null,
   "metadata": {
    "dotnet_interactive": {
     "language": "csharp"
    }
   },
   "outputs": [
    {
     "data": {
      "text/html": [
       "<div class=\"dni-plaintext\">-34</div>"
      ]
     },
     "output_type": "unknown"
    }
   ],
   "source": [
    "-9*4 +1 + 1"
   ]
  },
  {
   "cell_type": "code",
   "execution_count": null,
   "metadata": {
    "dotnet_interactive": {
     "language": "csharp"
    }
   },
   "outputs": [
    {
     "data": {
      "text/plain": [
       "ab"
      ]
     },
     "output_type": "unknown"
    }
   ],
   "source": []
  }
 ],
 "metadata": {
  "interpreter": {
   "hash": "c5f27d2495742c4ffbc52fa3e035ff43b9713cdb453dbcfc7e78131e158bd13a"
  },
  "kernelspec": {
   "display_name": "Python 3.8.10 64-bit (windows store)",
   "name": "python3"
  },
  "language_info": {
   "name": "python",
   "version": ""
  }
 },
 "nbformat": 4,
 "nbformat_minor": 2
}